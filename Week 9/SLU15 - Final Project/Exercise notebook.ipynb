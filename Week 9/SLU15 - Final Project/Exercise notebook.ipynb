{
 "cells": [
  {
   "cell_type": "markdown",
   "metadata": {},
   "source": [
    "# Final Project - TicTacToe"
   ]
  },
  {
   "cell_type": "markdown",
   "metadata": {},
   "source": [
    "## Exercise 1\n",
    "Open the file `tictactoe.py`. Look for the method `get_row_col_from_pixels`. On this exercise you will need to implement this method. The expected behavior is described on the method docstring. If you have some doubts, please refer to the Learning Notebook, you have a section explaining how to convert from pixels to the game square positions.\n",
    "\n",
    "Once you are done, please run the cell below and make sure that the tests pass. If you prefer you can run the tests by navigating to the root folder of your project and then run the command `pytest tests.py -k 'test_get_row_col_from_pixels'`."
   ]
  },
  {
   "cell_type": "code",
   "execution_count": 1,
   "metadata": {},
   "outputs": [
    {
     "name": "stdout",
     "output_type": "stream",
     "text": [
      "\u001b[1m============================= test session starts ==============================\u001b[0m\n",
      "platform linux -- Python 3.8.2, pytest-6.0.2, py-1.9.0, pluggy-0.13.1\n",
      "rootdir: /home/samuelcardoso/projects/ds-prep-workspace/Week 9/SLU15 - Final Project\n",
      "collected 3 items / 2 deselected / 1 selected                                  \u001b[0m\n",
      "\n",
      "tests.py \u001b[32m.\u001b[0m\u001b[32m                                                               [100%]\u001b[0m\n",
      "\n",
      "\u001b[32m======================= \u001b[32m\u001b[1m1 passed\u001b[0m, \u001b[33m2 deselected\u001b[0m\u001b[32m in 0.08s\u001b[0m\u001b[32m ========================\u001b[0m\n"
     ]
    }
   ],
   "source": [
    "!pytest tests.py -k 'test_get_row_col_from_pixels'"
   ]
  },
  {
   "cell_type": "markdown",
   "metadata": {},
   "source": [
    "## Exercise 2\n",
    "Open the file `tictactoe.py`. Look for the method `get_empty_positions`. On this exercise you will need to implement this method. The expected behavior is described on the method docstring.\n",
    "\n",
    "Once you are done, please run the cell below and make sure that the tests pass. If you prefer you can run the tests by navigating to the root folder of your project and then run the command `pytest tests.py -k 'test_get_empty_positions'`."
   ]
  },
  {
   "cell_type": "code",
   "execution_count": 5,
   "metadata": {},
   "outputs": [
    {
     "name": "stdout",
     "output_type": "stream",
     "text": [
      "\u001b[1m============================= test session starts ==============================\u001b[0m\n",
      "platform linux -- Python 3.8.2, pytest-6.0.2, py-1.9.0, pluggy-0.13.1\n",
      "rootdir: /home/samuelcardoso/projects/ds-prep-workspace/Week 9/SLU15 - Final Project\n",
      "collected 3 items / 2 deselected / 1 selected                                  \u001b[0m\n",
      "\n",
      "tests.py \u001b[32m.\u001b[0m\u001b[32m                                                               [100%]\u001b[0m\n",
      "\n",
      "\u001b[32m======================= \u001b[32m\u001b[1m1 passed\u001b[0m, \u001b[33m2 deselected\u001b[0m\u001b[32m in 0.09s\u001b[0m\u001b[32m ========================\u001b[0m\n"
     ]
    }
   ],
   "source": [
    "!pytest tests.py -k 'test_get_empty_positions'"
   ]
  },
  {
   "cell_type": "markdown",
   "metadata": {},
   "source": [
    "## Exercise 3\n",
    "Open the file `tictactoe.py`. Look for the method `check_winner`. On this exercise you will need to implement this method. The expected behavior is described on the method docstring.\n",
    "\n",
    "Once you are done, please run the cell below and make sure that the tests pass. If you prefer you can run the tests by navigating to the root folder of your project and then run the command `!pytest tests.py -k 'test_check_winner'`."
   ]
  },
  {
   "cell_type": "code",
   "execution_count": 7,
   "metadata": {},
   "outputs": [
    {
     "name": "stdout",
     "output_type": "stream",
     "text": [
      "\u001b[1m============================= test session starts ==============================\u001b[0m\n",
      "platform linux -- Python 3.8.2, pytest-6.0.2, py-1.9.0, pluggy-0.13.1\n",
      "rootdir: /home/samuelcardoso/projects/ds-prep-workspace/Week 9/SLU15 - Final Project\n",
      "collected 3 items / 2 deselected / 1 selected                                  \u001b[0m\n",
      "\n",
      "tests.py \u001b[32m.\u001b[0m\u001b[32m                                                               [100%]\u001b[0m\n",
      "\n",
      "\u001b[32m======================= \u001b[32m\u001b[1m1 passed\u001b[0m, \u001b[33m2 deselected\u001b[0m\u001b[32m in 0.06s\u001b[0m\u001b[32m ========================\u001b[0m\n"
     ]
    }
   ],
   "source": [
    "!pytest tests.py -k 'test_check_winner'"
   ]
  },
  {
   "cell_type": "code",
   "execution_count": 8,
   "metadata": {},
   "outputs": [
    {
     "name": "stdout",
     "output_type": "stream",
     "text": [
      "\u001b[1m============================= test session starts ==============================\u001b[0m\n",
      "platform linux -- Python 3.8.2, pytest-6.0.2, py-1.9.0, pluggy-0.13.1\n",
      "rootdir: /home/samuelcardoso/projects/ds-prep-workspace/Week 9/SLU15 - Final Project\n",
      "collected 3 items                                                              \u001b[0m\n",
      "\n",
      "tests.py \u001b[32m.\u001b[0m\u001b[32m.\u001b[0m\u001b[32m.\u001b[0m\u001b[32m                                                             [100%]\u001b[0m\n",
      "\n",
      "\u001b[32m============================== \u001b[32m\u001b[1m3 passed\u001b[0m\u001b[32m in 0.05s\u001b[0m\u001b[32m ===============================\u001b[0m\n"
     ]
    }
   ],
   "source": [
    "!pytest tests.py"
   ]
  },
  {
   "cell_type": "markdown",
   "metadata": {},
   "source": [
    "If you have reached this cell without seeing any error, congratulations, your game is now fully functional. Run your game and give it a play.\n",
    "\n",
    "Go to your terminal, navigate to the root folder of the project `~/projects/ds-prep-workspace/Week 9/SLU15 - Final Project` and then type `python main.py`. \n",
    "\n",
    "If you are on WSL, **please start xlaunch** (refer to the WSL requirements of the learning notebook), and run `export DISPLAY=localhost:0.0 && python main.py`"
   ]
  },
  {
   "cell_type": "markdown",
   "metadata": {},
   "source": [
    "## Next Steps\n",
    "If you think that it was too easy, we have some suggestion of improvements to do on the project.\n",
    "\n",
    "- Try to increase the Intelligence of the Computer Player. If you look at the code now (refer to the player.py file), the computer player is just a simple random choice. There are some simple rules that you can define that will increase the intelligence of the player. If you want to create a unbeatable computer player, please take a look on [this algorithm](https://towardsdatascience.com/tic-tac-toe-creating-unbeatable-ai-with-minimax-algorithm-8af9e52c1e7d). \n",
    "- When the game ends, you need to close the window and launch the game again. You can try to implement a strategy that allows you to restart the game. Take a look on how the quit functionality is implemented. Try to add a new [pygame event](https://www.pygame.org/docs/ref/event.html) that allows you to restart the game.\n",
    "- Change the design of the game, create your own design"
   ]
  }
 ],
 "metadata": {
  "kernelspec": {
   "display_name": "Python 3",
   "language": "python",
   "name": "python3"
  },
  "language_info": {
   "codemirror_mode": {
    "name": "ipython",
    "version": 3
   },
   "file_extension": ".py",
   "mimetype": "text/x-python",
   "name": "python",
   "nbconvert_exporter": "python",
   "pygments_lexer": "ipython3",
   "version": "3.8.2"
  }
 },
 "nbformat": 4,
 "nbformat_minor": 4
}
